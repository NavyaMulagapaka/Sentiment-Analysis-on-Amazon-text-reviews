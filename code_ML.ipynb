{
  "nbformat": 4,
  "nbformat_minor": 0,
  "metadata": {
    "colab": {
      "name": "MLPractise.ipynb",
      "provenance": [],
      "collapsed_sections": []
    },
    "kernelspec": {
      "name": "python3",
      "display_name": "Python 3"
    },
    "language_info": {
      "name": "python"
    }
  },
  "cells": [
    {
      "cell_type": "markdown",
      "source": [
        "Importing required python modules"
      ],
      "metadata": {
        "id": "oiSD2VkGy4CT"
      }
    },
    {
      "cell_type": "code",
      "execution_count": 1,
      "metadata": {
        "id": "QkztXKr0y0c_"
      },
      "outputs": [],
      "source": [
        "import numpy as np\n",
        "import matplotlib.pyplot as plt\n",
        "import pandas as pd\n",
        "import spacy\n",
        "from sklearn.decomposition import PCA\n"
      ]
    },
    {
      "cell_type": "markdown",
      "source": [
        "Importing the drive module because to access the data CSV file in google colab"
      ],
      "metadata": {
        "id": "vdsQwcyBzS1A"
      }
    },
    {
      "cell_type": "code",
      "source": [
        "from google.colab import drive\n",
        "drive.mount('/content/drive')"
      ],
      "metadata": {
        "colab": {
          "base_uri": "https://localhost:8080/"
        },
        "id": "dNzAeUfQzTxB",
        "outputId": "8dae90da-1623-43cf-fd26-ba580d4be2ce"
      },
      "execution_count": 2,
      "outputs": [
        {
          "output_type": "stream",
          "name": "stdout",
          "text": [
            "Mounted at /content/drive\n"
          ]
        }
      ]
    },
    {
      "cell_type": "markdown",
      "source": [
        "* Importing the data set into a data frame by reading the CSV file"
      ],
      "metadata": {
        "id": "89v5M_zyzWOZ"
      }
    },
    {
      "cell_type": "code",
      "source": [
        "dataset = pd.read_csv('/content/drive/MyDrive/Colab Notebooks/Data.csv')\n",
        "print(dataset.head())"
      ],
      "metadata": {
        "colab": {
          "base_uri": "https://localhost:8080/"
        },
        "id": "xGA0XqWAzZ0i",
        "outputId": "6f83f44e-f97e-458d-a97e-827bfdca9aa5"
      },
      "execution_count": 3,
      "outputs": [
        {
          "output_type": "stream",
          "name": "stdout",
          "text": [
            "               review_id                                               text  \\\n",
            "0  product_review_000000  Great story line and game play, somewhat simil...   \n",
            "1  product_review_000001  Love these strings, beefy is the way to go if ...   \n",
            "2  product_review_000002  Good game if you liked the first one you would...   \n",
            "3  product_review_000003  I love this mixer  and I'm a mixer snob (i.e. ...   \n",
            "4  product_review_000004  I loved Halo through Halo 3, and I thoroughly ...   \n",
            "\n",
            "  verified  review_score     product_category  \n",
            "0    False           5.0          video_games  \n",
            "1     True           5.0  musical_instruments  \n",
            "2     True           4.0          video_games  \n",
            "3    False           5.0  musical_instruments  \n",
            "4     True           5.0          video_games  \n"
          ]
        }
      ]
    },
    {
      "cell_type": "markdown",
      "source": [
        "* **Exploratory Data analysis**"
      ],
      "metadata": {
        "id": "rm7BBKmiy56W"
      }
    },
    {
      "cell_type": "markdown",
      "source": [
        "Plotting a bar graph to visualise the missing values for each column in the data set and we can observe that there is an imbalance in the data set"
      ],
      "metadata": {
        "id": "xnOyRj2ELZWH"
      }
    },
    {
      "cell_type": "code",
      "source": [
        "# Missing values or null values in each coloumn\n",
        "data = [dataset['review_id'].isna().sum(),dataset['text'].isna().sum(),dataset['verified'].isna().sum(),dataset['review_score'].isna().sum(),dataset['product_category'].isna().sum()]\n",
        "plt.figure(figsize = (8,8))\n",
        "plt.bar(dataset.columns,data)\n",
        "plt.title(\"Imbalanced Data Composition\")"
      ],
      "metadata": {
        "colab": {
          "base_uri": "https://localhost:8080/",
          "height": 517
        },
        "id": "9yknUKNa2jN7",
        "outputId": "1452af36-7424-464a-aaf2-f24ef7d172c5"
      },
      "execution_count": 4,
      "outputs": [
        {
          "output_type": "execute_result",
          "data": {
            "text/plain": [
              "Text(0.5, 1.0, 'Imbalanced Data Composition')"
            ]
          },
          "metadata": {},
          "execution_count": 4
        },
        {
          "output_type": "display_data",
          "data": {
            "text/plain": [
              "<Figure size 576x576 with 1 Axes>"
            ],
            "image/png": "[encoded data removed]"
          },
          "metadata": {
            "needs_background": "light"
          }
        }
      ]
    },
    {
      "cell_type": "markdown",
      "source": [
        "* Applying Describe function to the dataset to Summarise the statistics for numerical features"
      ],
      "metadata": {
        "id": "DMmHgLMrzcMF"
      }
    },
    {
      "cell_type": "code",
      "source": [
        "dataset.describe()"
      ],
      "metadata": {
        "colab": {
          "base_uri": "https://localhost:8080/",
          "height": 300
        },
        "id": "NWijPiIAzinV",
        "outputId": "4986f1ed-306a-4551-f2f3-53d31f047a43"
      },
      "execution_count": 5,
      "outputs": [
        {
          "output_type": "execute_result",
          "data": {
            "text/plain": [
              "       review_score\n",
              "count  32918.000000\n",
              "mean       4.088280\n",
              "std        1.435359\n",
              "min       -1.000000\n",
              "25%        4.000000\n",
              "50%        5.000000\n",
              "75%        5.000000\n",
              "max        5.000000"
            ],
            "text/html": [
              "\n",
              "  <div id=\"df-ec39e131-0e03-49fd-ac4c-6907bd8c497e\">\n",
              "    <div class=\"colab-df-container\">\n",
              "      <div>\n",
              "<style scoped>\n",
              "    .dataframe tbody tr th:only-of-type {\n",
              "        vertical-align: middle;\n",
              "    }\n",
              "\n",
              "    .dataframe tbody tr th {\n",
              "        vertical-align: top;\n",
              "    }\n",
              "\n",
              "    .dataframe thead th {\n",
              "        text-align: right;\n",
              "    }\n",
              "</style>\n",
              "<table border=\"1\" class=\"dataframe\">\n",
              "  <thead>\n",
              "    <tr style=\"text-align: right;\">\n",
              "      <th></th>\n",
              "      <th>review_score</th>\n",
              "    </tr>\n",
              "  </thead>\n",
              "  <tbody>\n",
              "    <tr>\n",
              "      <th>count</th>\n",
              "      <td>32918.000000</td>\n",
              "    </tr>\n",
              "    <tr>\n",
              "      <th>mean</th>\n",
              "      <td>4.088280</td>\n",
              "    </tr>\n",
              "    <tr>\n",
              "      <th>std</th>\n",
              "      <td>1.435359</td>\n",
              "    </tr>\n",
              "    <tr>\n",
              "      <th>min</th>\n",
              "      <td>-1.000000</td>\n",
              "    </tr>\n",
              "    <tr>\n",
              "      <th>25%</th>\n",
              "      <td>4.000000</td>\n",
              "    </tr>\n",
              "    <tr>\n",
              "      <th>50%</th>\n",
              "      <td>5.000000</td>\n",
              "    </tr>\n",
              "    <tr>\n",
              "      <th>75%</th>\n",
              "      <td>5.000000</td>\n",
              "    </tr>\n",
              "    <tr>\n",
              "      <th>max</th>\n",
              "      <td>5.000000</td>\n",
              "    </tr>\n",
              "  </tbody>\n",
              "</table>\n",
              "</div>\n",
              "      <button class=\"colab-df-convert\" onclick=\"convertToInteractive('df-ec39e131-0e03-49fd-ac4c-6907bd8c497e')\"\n",
              "              title=\"Convert this dataframe to an interactive table.\"\n",
              "              style=\"display:none;\">\n",
              "        \n",
              "  <svg xmlns=\"http://www.w3.org/2000/svg\" height=\"24px\"viewBox=\"0 0 24 24\"\n",
              "       width=\"24px\">\n",
              "    <path d=\"M0 0h24v24H0V0z\" fill=\"none\"/>\n",
              "    <path d=\"M18.56 5.44l.94 2.06.94-2.06 2.06-.94-2.06-.94-.94-2.06-.94 2.06-2.06.94zm-11 1L8.5 8.5l.94-2.06 2.06-.94-2.06-.94L8.5 2.5l-.94 2.06-2.06.94zm10 10l.94 2.06.94-2.06 2.06-.94-2.06-.94-.94-2.06-.94 2.06-2.06.94z\"/><path d=\"M17.41 7.96l-1.37-1.37c-.4-.4-.92-.59-1.43-.59-.52 0-1.04.2-1.43.59L10.3 9.45l-7.72 7.72c-.78.78-.78 2.05 0 2.83L4 21.41c.39.39.9.59 1.41.59.51 0 1.02-.2 1.41-.59l7.78-7.78 2.81-2.81c.8-.78.8-2.07 0-2.86zM5.41 20L4 18.59l7.72-7.72 1.47 1.35L5.41 20z\"/>\n",
              "  </svg>\n",
              "      </button>\n",
              "      \n",
              "  <style>\n",
              "    .colab-df-container {\n",
              "      display:flex;\n",
              "      flex-wrap:wrap;\n",
              "      gap: 12px;\n",
              "    }\n",
              "\n",
              "    .colab-df-convert {\n",
              "      background-color: #E8F0FE;\n",
              "      border: none;\n",
              "      border-radius: 50%;\n",
              "      cursor: pointer;\n",
              "      display: none;\n",
              "      fill: #1967D2;\n",
              "      height: 32px;\n",
              "      padding: 0 0 0 0;\n",
              "      width: 32px;\n",
              "    }\n",
              "\n",
              "    .colab-df-convert:hover {\n",
              "      background-color: #E2EBFA;\n",
              "      box-shadow: 0px 1px 2px rgba(60, 64, 67, 0.3), 0px 1px 3px 1px rgba(60, 64, 67, 0.15);\n",
              "      fill: #174EA6;\n",
              "    }\n",
              "\n",
              "    [theme=dark] .colab-df-convert {\n",
              "      background-color: #3B4455;\n",
              "      fill: #D2E3FC;\n",
              "    }\n",
              "\n",
              "    [theme=dark] .colab-df-convert:hover {\n",
              "      background-color: #434B5C;\n",
              "      box-shadow: 0px 1px 3px 1px rgba(0, 0, 0, 0.15);\n",
              "      filter: drop-shadow(0px 1px 2px rgba(0, 0, 0, 0.3));\n",
              "      fill: #FFFFFF;\n",
              "    }\n",
              "  </style>\n",
              "\n",
              "      <script>\n",
              "        const buttonEl =\n",
              "          document.querySelector('#df-ec39e131-0e03-49fd-ac4c-6907bd8c497e button.colab-df-convert');\n",
              "        buttonEl.style.display =\n",
              "          google.colab.kernel.accessAllowed ? 'block' : 'none';\n",
              "\n",
              "        async function convertToInteractive(key) {\n",
              "          const element = document.querySelector('#df-ec39e131-0e03-49fd-ac4c-6907bd8c497e');\n",
              "          const dataTable =\n",
              "            await google.colab.kernel.invokeFunction('convertToInteractive',\n",
              "                                                     [key], {});\n",
              "          if (!dataTable) return;\n",
              "\n",
              "          const docLinkHtml = 'Like what you see? Visit the ' +\n",
              "            '<a target=\"_blank\" href=https://colab.research.google.com/notebooks/data_table.ipynb>data table notebook</a>'\n",
              "            + ' to learn more about interactive tables.';\n",
              "          element.innerHTML = '';\n",
              "          dataTable['output_type'] = 'display_data';\n",
              "          await google.colab.output.renderOutput(dataTable, element);\n",
              "          const docLink = document.createElement('div');\n",
              "          docLink.innerHTML = docLinkHtml;\n",
              "          element.appendChild(docLink);\n",
              "        }\n",
              "      </script>\n",
              "    </div>\n",
              "  </div>\n",
              "  "
            ]
          },
          "metadata": {},
          "execution_count": 5
        }
      ]
    },
    {
      "cell_type": "markdown",
      "source": [
        "* From the describe function result we can observe that there is -1 for the review_score attribute which is invalid because a rating for a product is on a scale of 1 to 5. So by replacing the -1 with np.nan which means not a number in Numpy"
      ],
      "metadata": {
        "id": "D6Mb0l2F0GcU"
      }
    },
    {
      "cell_type": "markdown",
      "source": [
        "* Replacing Invalid data with np.nan\n",
        "* For CATEGORICAL features, we want to use the Pandas function `value_counts()` to obtain information about how many categories there are and how many instances of each."
      ],
      "metadata": {
        "id": "s_-AgEA7NP-6"
      }
    },
    {
      "cell_type": "code",
      "source": [
        "#Replacing '-1' with np.nan \n",
        "print(dataset['review_score'].value_counts())\n",
        "dataset.loc[dataset.review_score<0,'review_score'] = np.nan\n",
        "print(\"After filling the -1 review_score with np.nan we get result as\")\n",
        "print(dataset['review_score'].value_counts())"
      ],
      "metadata": {
        "colab": {
          "base_uri": "https://localhost:8080/"
        },
        "id": "f-p6pOG30HWB",
        "outputId": "daa972f3-f48e-4d51-efd4-17926c4742bc"
      },
      "execution_count": 6,
      "outputs": [
        {
          "output_type": "stream",
          "name": "stdout",
          "text": [
            " 5.0    19266\n",
            " 4.0     6202\n",
            " 3.0     3133\n",
            " 1.0     1872\n",
            " 2.0     1538\n",
            "-1.0      907\n",
            "Name: review_score, dtype: int64\n",
            "After filling the -1 review_score with np.nan we get result as\n",
            "5.0    19266\n",
            "4.0     6202\n",
            "3.0     3133\n",
            "1.0     1872\n",
            "2.0     1538\n",
            "Name: review_score, dtype: int64\n"
          ]
        }
      ]
    },
    {
      "cell_type": "markdown",
      "source": [
        "* Finding out how many missing values (or NaN values) are there in each feature, using Pandas `isna()` function. Here we can find that there are almost equal missing or null values for the review_score and product_category column"
      ],
      "metadata": {
        "id": "hO-CP00Y0QVf"
      }
    },
    {
      "cell_type": "code",
      "source": [
        "dataset.isna().sum()"
      ],
      "metadata": {
        "colab": {
          "base_uri": "https://localhost:8080/"
        },
        "id": "S6IxGK670RVY",
        "outputId": "05941f0d-e8ee-481b-b2ec-36fe50652006"
      },
      "execution_count": 7,
      "outputs": [
        {
          "output_type": "execute_result",
          "data": {
            "text/plain": [
              "review_id             0\n",
              "text                  9\n",
              "verified            119\n",
              "review_score        907\n",
              "product_category    906\n",
              "dtype: int64"
            ]
          },
          "metadata": {},
          "execution_count": 7
        }
      ]
    },
    {
      "cell_type": "markdown",
      "source": [
        "* A Bar chart is plotted after replacing the invalid values present in the review score column"
      ],
      "metadata": {
        "id": "SKsO-l1zOPAa"
      }
    },
    {
      "cell_type": "code",
      "source": [
        "# Missing values or null values in each coloumn\n",
        "data = [dataset['review_id'].isna().sum(),dataset['text'].isna().sum(),dataset['verified'].isna().sum(),dataset['review_score'].isna().sum(),dataset['product_category'].isna().sum()]\n",
        "plt.figure(figsize = (8,8))\n",
        "plt.bar(dataset.columns,data)\n",
        "plt.title(\"Imbalanced Data Composition\")"
      ],
      "metadata": {
        "colab": {
          "base_uri": "https://localhost:8080/",
          "height": 517
        },
        "id": "2Swwn2M75vrT",
        "outputId": "47940c82-b967-495a-b8bf-5f5b7927c5c6"
      },
      "execution_count": 8,
      "outputs": [
        {
          "output_type": "execute_result",
          "data": {
            "text/plain": [
              "Text(0.5, 1.0, 'Imbalanced Data Composition')"
            ]
          },
          "metadata": {},
          "execution_count": 8
        },
        {
          "output_type": "display_data",
          "data": {
            "text/plain": [
              "<Figure size 576x576 with 1 Axes>"
            ],
            "image/png": "[encoded data removed]"
          },
          "metadata": {
            "needs_background": "light"
          }
        }
      ]
    },
    {
      "cell_type": "markdown",
      "source": [
        "* **Data cleaning**"
      ],
      "metadata": {
        "id": "Go1nRe1WOo45"
      }
    },
    {
      "cell_type": "markdown",
      "source": [
        "* Here we are removing the invalid data for the review_score column by Storing the review id for a row in the dataset data frame by determining the invalid values from all the columns and removing them from the data frame"
      ],
      "metadata": {
        "id": "SrQZoAOu0T3s"
      }
    },
    {
      "cell_type": "code",
      "source": [
        "import math\n",
        "invalid = []\n",
        "for i in dataset.index:\n",
        "  if (math.isnan(dataset.review_score[i])):\n",
        "    value1 = dataset.review_id[i]\n",
        "    invalid.append(value1)\n",
        "# Excluding the rows which has invalid values in the dataset\n",
        "for i in invalid:\n",
        "  dataset.drop(dataset.index[dataset['review_id'] == i], inplace=True)\n",
        "print(dataset)"
      ],
      "metadata": {
        "colab": {
          "base_uri": "https://localhost:8080/"
        },
        "id": "Xjp8Obsp3P9p",
        "outputId": "970f14d1-9d95-4db2-e0d8-6d0edb19ac9a"
      },
      "execution_count": 9,
      "outputs": [
        {
          "output_type": "stream",
          "name": "stdout",
          "text": [
            "                   review_id  \\\n",
            "0      product_review_000000   \n",
            "1      product_review_000001   \n",
            "2      product_review_000002   \n",
            "3      product_review_000003   \n",
            "4      product_review_000004   \n",
            "...                      ...   \n",
            "32913  product_review_032913   \n",
            "32914  product_review_032914   \n",
            "32915  product_review_032915   \n",
            "32916  product_review_032916   \n",
            "32917  product_review_032917   \n",
            "\n",
            "                                                    text verified  \\\n",
            "0      Great story line and game play, somewhat simil...    False   \n",
            "1      Love these strings, beefy is the way to go if ...     True   \n",
            "2      Good game if you liked the first one you would...     True   \n",
            "3      I love this mixer  and I'm a mixer snob (i.e. ...    False   \n",
            "4      I loved Halo through Halo 3, and I thoroughly ...     True   \n",
            "...                                                  ...      ...   \n",
            "32913  GUNS! GUNS! GLORIOUS GUNS!!! ...for about 30 m...     True   \n",
            "32914                           My son will love this..      True   \n",
            "32915  Working like my last one.. I slammed my last o...     True   \n",
            "32916  As another person posted about it, it does fee...     True   \n",
            "32917  It gets the job done. Nothing fancy.\\n\\n The w...    False   \n",
            "\n",
            "       review_score     product_category  \n",
            "0               5.0          video_games  \n",
            "1               5.0  musical_instruments  \n",
            "2               4.0          video_games  \n",
            "3               5.0  musical_instruments  \n",
            "4               5.0          video_games  \n",
            "...             ...                  ...  \n",
            "32913           5.0          video_games  \n",
            "32914           5.0          video_games  \n",
            "32915           5.0          video_games  \n",
            "32916           2.0          video_games  \n",
            "32917           4.0  musical_instruments  \n",
            "\n",
            "[32011 rows x 5 columns]\n"
          ]
        }
      ]
    },
    {
      "cell_type": "markdown",
      "source": [
        "* Removing the missing values and storing them in missing[] array based on review_id"
      ],
      "metadata": {
        "id": "5qPgGUn7QNFL"
      }
    },
    {
      "cell_type": "code",
      "source": [
        "missing = []\n",
        "for i in dataset.index:\n",
        "  if (pd.isna(dataset.text[i])):\n",
        "    value2 = dataset.review_id[i]\n",
        "    missing.append(value2)\n",
        "  elif (pd.isna(dataset.product_category[i])):\n",
        "    value3 = dataset.review_id[i]\n",
        "    missing.append(value3)\n",
        "  elif (pd.isna(dataset.verified[i])):\n",
        "    value4 = dataset.review_id[i]\n",
        "    missing.append(value4)\n",
        "# Excluding the rows which has null or missing values in the dataset\n",
        "for i in missing:\n",
        "  dataset.drop(dataset.index[dataset['review_id'] == i], inplace=True)\n",
        "print(dataset)"
      ],
      "metadata": {
        "colab": {
          "base_uri": "https://localhost:8080/"
        },
        "id": "m0iUJnvb0W-M",
        "outputId": "8284d689-6fb7-49ee-dc78-9e7ceff3cb37"
      },
      "execution_count": 10,
      "outputs": [
        {
          "output_type": "stream",
          "name": "stdout",
          "text": [
            "                   review_id  \\\n",
            "0      product_review_000000   \n",
            "1      product_review_000001   \n",
            "2      product_review_000002   \n",
            "3      product_review_000003   \n",
            "4      product_review_000004   \n",
            "...                      ...   \n",
            "32913  product_review_032913   \n",
            "32914  product_review_032914   \n",
            "32915  product_review_032915   \n",
            "32916  product_review_032916   \n",
            "32917  product_review_032917   \n",
            "\n",
            "                                                    text verified  \\\n",
            "0      Great story line and game play, somewhat simil...    False   \n",
            "1      Love these strings, beefy is the way to go if ...     True   \n",
            "2      Good game if you liked the first one you would...     True   \n",
            "3      I love this mixer  and I'm a mixer snob (i.e. ...    False   \n",
            "4      I loved Halo through Halo 3, and I thoroughly ...     True   \n",
            "...                                                  ...      ...   \n",
            "32913  GUNS! GUNS! GLORIOUS GUNS!!! ...for about 30 m...     True   \n",
            "32914                           My son will love this..      True   \n",
            "32915  Working like my last one.. I slammed my last o...     True   \n",
            "32916  As another person posted about it, it does fee...     True   \n",
            "32917  It gets the job done. Nothing fancy.\\n\\n The w...    False   \n",
            "\n",
            "       review_score     product_category  \n",
            "0               5.0          video_games  \n",
            "1               5.0  musical_instruments  \n",
            "2               4.0          video_games  \n",
            "3               5.0  musical_instruments  \n",
            "4               5.0          video_games  \n",
            "...             ...                  ...  \n",
            "32913           5.0          video_games  \n",
            "32914           5.0          video_games  \n",
            "32915           5.0          video_games  \n",
            "32916           2.0          video_games  \n",
            "32917           4.0  musical_instruments  \n",
            "\n",
            "[30986 rows x 5 columns]\n"
          ]
        }
      ]
    },
    {
      "cell_type": "markdown",
      "source": [
        "* Finding the duplicate rows and storing there review Id and then removing them from the dataframe by taking the review id as reference"
      ],
      "metadata": {
        "id": "xfk8f8BL0gP9"
      }
    },
    {
      "cell_type": "code",
      "source": [
        "duplicate = dataset[dataset.duplicated('text')]\n",
        "duplicateId = []\n",
        "for i in duplicate.review_id:\n",
        "  value = i\n",
        "  duplicateId.append(value)\n",
        "# Removing the duplicate rows from the dataset \n",
        "for i in duplicateId:\n",
        "  dataset.drop(dataset.index[dataset['review_id'] == i], inplace=True)\n",
        "print(\"After removing duplicates: \")\n",
        "print(dataset)"
      ],
      "metadata": {
        "colab": {
          "base_uri": "https://localhost:8080/"
        },
        "id": "TofDDVq-0hRE",
        "outputId": "4d8467e5-e09e-4ac2-b727-e6863260f6cb"
      },
      "execution_count": 11,
      "outputs": [
        {
          "output_type": "stream",
          "name": "stdout",
          "text": [
            "After removing duplicates: \n",
            "                   review_id  \\\n",
            "0      product_review_000000   \n",
            "1      product_review_000001   \n",
            "2      product_review_000002   \n",
            "3      product_review_000003   \n",
            "4      product_review_000004   \n",
            "...                      ...   \n",
            "32913  product_review_032913   \n",
            "32914  product_review_032914   \n",
            "32915  product_review_032915   \n",
            "32916  product_review_032916   \n",
            "32917  product_review_032917   \n",
            "\n",
            "                                                    text verified  \\\n",
            "0      Great story line and game play, somewhat simil...    False   \n",
            "1      Love these strings, beefy is the way to go if ...     True   \n",
            "2      Good game if you liked the first one you would...     True   \n",
            "3      I love this mixer  and I'm a mixer snob (i.e. ...    False   \n",
            "4      I loved Halo through Halo 3, and I thoroughly ...     True   \n",
            "...                                                  ...      ...   \n",
            "32913  GUNS! GUNS! GLORIOUS GUNS!!! ...for about 30 m...     True   \n",
            "32914                           My son will love this..      True   \n",
            "32915  Working like my last one.. I slammed my last o...     True   \n",
            "32916  As another person posted about it, it does fee...     True   \n",
            "32917  It gets the job done. Nothing fancy.\\n\\n The w...    False   \n",
            "\n",
            "       review_score     product_category  \n",
            "0               5.0          video_games  \n",
            "1               5.0  musical_instruments  \n",
            "2               4.0          video_games  \n",
            "3               5.0  musical_instruments  \n",
            "4               5.0          video_games  \n",
            "...             ...                  ...  \n",
            "32913           5.0          video_games  \n",
            "32914           5.0          video_games  \n",
            "32915           5.0          video_games  \n",
            "32916           2.0          video_games  \n",
            "32917           4.0  musical_instruments  \n",
            "\n",
            "[30049 rows x 5 columns]\n"
          ]
        }
      ]
    },
    {
      "cell_type": "markdown",
      "source": [
        "* Sum of Excluded rows from data set"
      ],
      "metadata": {
        "id": "whKCch3LrscO"
      }
    },
    {
      "cell_type": "code",
      "source": [
        "print(len(missing) + len(invalid) + len(duplicateId))"
      ],
      "metadata": {
        "colab": {
          "base_uri": "https://localhost:8080/"
        },
        "id": "RAcolU9Drvog",
        "outputId": "b827e179-1d1b-4510-fa61-5e0e0c7ca67f"
      },
      "execution_count": 12,
      "outputs": [
        {
          "output_type": "stream",
          "name": "stdout",
          "text": [
            "2869\n"
          ]
        }
      ]
    },
    {
      "cell_type": "markdown",
      "source": [
        "* Categorical columns count"
      ],
      "metadata": {
        "id": "30I7qJkwaB9z"
      }
    },
    {
      "cell_type": "code",
      "source": [
        "categorical_columns= ['verified', 'product_category']\n",
        "for col in categorical_columns:\n",
        "  print(f\"Categories and number of occurrences for '{col}'\")\n",
        "  print(dataset[col].value_counts())\n",
        "  print()"
      ],
      "metadata": {
        "colab": {
          "base_uri": "https://localhost:8080/"
        },
        "id": "hF_i6Z0_0rG8",
        "outputId": "35034768-4d23-4558-b30c-fe3047b07eae"
      },
      "execution_count": 13,
      "outputs": [
        {
          "output_type": "stream",
          "name": "stdout",
          "text": [
            "Categories and number of occurrences for 'verified'\n",
            "True     21425\n",
            "False     8624\n",
            "Name: verified, dtype: int64\n",
            "\n",
            "Categories and number of occurrences for 'product_category'\n",
            "video_games            20390\n",
            "musical_instruments     9659\n",
            "Name: product_category, dtype: int64\n",
            "\n"
          ]
        }
      ]
    },
    {
      "cell_type": "markdown",
      "source": [
        "* Encoding the product_category Categorical data into numerical using label encoder.\n",
        "Data Preprocessing in machine learning requires values of the data in numerical form. Therefore text values in the columns of datasets must be converted into numerical form."
      ],
      "metadata": {
        "id": "bq87ctkq0x3j"
      }
    },
    {
      "cell_type": "code",
      "source": [
        "from sklearn.preprocessing import LabelEncoder\n",
        "# create an object of the LabelEncoder class\n",
        "lblEncoder_X = LabelEncoder()   \n",
        "dataset['product_category'] = lblEncoder_X.fit_transform(dataset['product_category']) \n",
        "print(dataset)"
      ],
      "metadata": {
        "colab": {
          "base_uri": "https://localhost:8080/"
        },
        "id": "jbPCVVSV03as",
        "outputId": "123308f4-f3a2-43a6-a67d-04e343bac014"
      },
      "execution_count": 14,
      "outputs": [
        {
          "output_type": "stream",
          "name": "stdout",
          "text": [
            "                   review_id  \\\n",
            "0      product_review_000000   \n",
            "1      product_review_000001   \n",
            "2      product_review_000002   \n",
            "3      product_review_000003   \n",
            "4      product_review_000004   \n",
            "...                      ...   \n",
            "32913  product_review_032913   \n",
            "32914  product_review_032914   \n",
            "32915  product_review_032915   \n",
            "32916  product_review_032916   \n",
            "32917  product_review_032917   \n",
            "\n",
            "                                                    text verified  \\\n",
            "0      Great story line and game play, somewhat simil...    False   \n",
            "1      Love these strings, beefy is the way to go if ...     True   \n",
            "2      Good game if you liked the first one you would...     True   \n",
            "3      I love this mixer  and I'm a mixer snob (i.e. ...    False   \n",
            "4      I loved Halo through Halo 3, and I thoroughly ...     True   \n",
            "...                                                  ...      ...   \n",
            "32913  GUNS! GUNS! GLORIOUS GUNS!!! ...for about 30 m...     True   \n",
            "32914                           My son will love this..      True   \n",
            "32915  Working like my last one.. I slammed my last o...     True   \n",
            "32916  As another person posted about it, it does fee...     True   \n",
            "32917  It gets the job done. Nothing fancy.\\n\\n The w...    False   \n",
            "\n",
            "       review_score  product_category  \n",
            "0               5.0                 1  \n",
            "1               5.0                 0  \n",
            "2               4.0                 1  \n",
            "3               5.0                 0  \n",
            "4               5.0                 1  \n",
            "...             ...               ...  \n",
            "32913           5.0                 1  \n",
            "32914           5.0                 1  \n",
            "32915           5.0                 1  \n",
            "32916           2.0                 1  \n",
            "32917           4.0                 0  \n",
            "\n",
            "[30049 rows x 5 columns]\n"
          ]
        }
      ]
    },
    {
      "cell_type": "markdown",
      "source": [
        "* **Text Preprocessing**\n"
      ],
      "metadata": {
        "id": "lr-ZuhCn1T_x"
      }
    },
    {
      "cell_type": "markdown",
      "source": [
        "* NLTK(natural language tool kit) is used for working on natural language processing in python\n",
        "* re is a RegEx library used for string pattern\n",
        "* Here first the stop words are removed based on stopwords for English and then punctuations are removed based on a pattern\n",
        "* Stemming or lemmatization is applied to the words to transform them to its root form\n",
        "* Then the corpus is stored with the resultant documents"
      ],
      "metadata": {
        "id": "SbV3c49oTNC0"
      }
    },
    {
      "cell_type": "code",
      "source": [
        "#Cleaning the text\n",
        "import re\n",
        "import nltk\n",
        "nltk.download('stopwords')\n",
        "from nltk.corpus import stopwords\n",
        "from nltk.stem.porter import PorterStemmer\n",
        "corpus = []\n",
        "for i in range(0, 30049):\n",
        "  review = re.sub('[^a-zA-Z]', ' ', dataset.iloc[i]['text'])\n",
        "  review = review.lower()\n",
        "  review = review.split()\n",
        "  ps = PorterStemmer()\n",
        "  all_stopwords = stopwords.words('english')\n",
        "  review = [ps.stem(word) for word in review if not word in set(all_stopwords)]\n",
        "  review = ' '.join(review)\n",
        "  corpus.append(review)\n",
        "for i in range(10):\n",
        "  print(corpus[i])"
      ],
      "metadata": {
        "colab": {
          "base_uri": "https://localhost:8080/"
        },
        "id": "D2MkMYiw1bSh",
        "outputId": "e416f287-4f40-4da2-95da-338a5efdca5f"
      },
      "execution_count": 15,
      "outputs": [
        {
          "output_type": "stream",
          "name": "stdout",
          "text": [
            "[nltk_data] Downloading package stopwords to /root/nltk_data...\n",
            "[nltk_data]   Unzipping corpora/stopwords.zip.\n",
            "great stori line game play somewhat similar older game regard game play mechan enough improv make worth way play stori mode adventur mode free battl onlin fight play stori hour long experi end realli well done dont worri ruin surpris stori mode come across numer peopl creatur fight v either game also util xbox one capabl anim graphic difficulti wise challeng enough good time noth like say dark soul love hardcor game replay abil wise inst ton combo sequenc lot master movement system block system chakra charg well ton charact alway look forward bit differ game play time around fun game definit differ enough game xbox right desearv spot shelf bandai outdid bandai outdid\n",
            "love string beefi way go love long sustain activ pick up would use anyth els tast use brand matter style gone slinki alway felt best hand love string\n",
            "good game like first one would like one mani updat sinc first came fix onlin date full go plat form like gta still divis play much fun game\n",
            "love mixer mixer snob e rane pioneer allen heath use back portabl mixer pioneer djm think great excel ergonom build qualiti low price feel right home use thing mix cut scratch etc build solid cross fader feel like pro grade balanc master output want solid inexpens mixer hesit grab one use lot mixer sinc littl rocker great love mixer mixer snob\n",
            "love halo halo thoroughli enjoy odst reach despit take sweet time get expect bad well thought halo go suck realli worri new dev team surpris easili best game seri typic fantast stori line awesom new weapon awesom new enemi etc realli glad decid give tri surpris\n",
            "forc strong one\n",
            "work perfect ps also tri ps work perfect system well great deal perfect ps ps\n",
            "hold charg long even new howev worst month casual use longer hold charg hour surpris microsoft product gener high qualiti last\n",
            "prepar learn lot game much learn far fight get quest intro game interest pretti darn good graphic one must new ds owner must\n",
            "word origin thought rememb pre soni day amaz game came mind tri think describ one other find better comparison think current cross toejam earl pokemon even age empir well command big armi differ type soldier use vari strategi particular kind enemi applaud shiggi cohort truli origin fun game pleas ignor one star review fairli certain miyamoto curs appli expect mario brother mario take three step right yeah bit short get right give four star still expend seriou brain matter finish one either money guid book still challeng mode keep entertain long finish game proper game like reason took gamecub demis sega nintendo shiggi still appear care game oppos money sure video game wow\n"
          ]
        }
      ]
    },
    {
      "cell_type": "markdown",
      "source": [
        "* Creating Bag of words model with count vectorizer\n",
        "* Here the unigrams are considered based on min_df = 10 which means the terms occur less than 10 documents and max_df = 0.5 which means the common terms which are present in 50% of the documents"
      ],
      "metadata": {
        "id": "z0FT2VQx3x8f"
      }
    },
    {
      "cell_type": "code",
      "source": [
        "from sklearn.feature_extraction.text import CountVectorizer\n",
        "cv = CountVectorizer(ngram_range=(1,1), lowercase=False, tokenizer=None,\n",
        "                       min_df=10, max_df=0.5)\n",
        "X = cv.fit_transform(corpus).toarray()\n",
        "Y = dataset.iloc[:, -1].values"
      ],
      "metadata": {
        "id": "C787VW2h31CK"
      },
      "execution_count": 16,
      "outputs": []
    },
    {
      "cell_type": "markdown",
      "source": [
        "* Splitting the data set"
      ],
      "metadata": {
        "id": "TpOB6quB4EoA"
      }
    },
    {
      "cell_type": "code",
      "source": [
        "from sklearn.model_selection import train_test_split\n",
        "X_train, X_test, y_train, y_test = train_test_split(X, Y, test_size = 0.30, random_state = 0)"
      ],
      "metadata": {
        "id": "Pvq_1Ro24IrU"
      },
      "execution_count": 17,
      "outputs": []
    },
    {
      "cell_type": "markdown",
      "source": [
        "* Logistic Regression\n",
        "* Training the model with training data "
      ],
      "metadata": {
        "id": "jl-a-roREwLT"
      }
    },
    {
      "cell_type": "code",
      "source": [
        "from sklearn.linear_model import LogisticRegression\n",
        "from sklearn.feature_extraction.text import TfidfTransformer\n",
        "tfidf_transformer = TfidfTransformer()\n",
        "X_train_tfidf = tfidf_transformer.fit_transform(X_train)\n",
        "lgr = LogisticRegression().fit(X_train_tfidf, y_train)\n"
      ],
      "metadata": {
        "id": "z7Qi86PfEcXa"
      },
      "execution_count": 18,
      "outputs": []
    },
    {
      "cell_type": "markdown",
      "source": [
        "* Predicting with test set"
      ],
      "metadata": {
        "id": "zGU4gfIfaiGM"
      }
    },
    {
      "cell_type": "code",
      "source": [
        "y_pred = lgr.predict(X_test)\n",
        "print(np.concatenate((y_pred.reshape(len(y_pred),1), y_test.reshape(len(y_test),1)),1))"
      ],
      "metadata": {
        "colab": {
          "base_uri": "https://localhost:8080/"
        },
        "id": "JKbymCN3G9MQ",
        "outputId": "ee63f4bd-1722-44d8-a074-897895103c12"
      },
      "execution_count": 19,
      "outputs": [
        {
          "output_type": "stream",
          "name": "stdout",
          "text": [
            "[[0 0]\n",
            " [1 1]\n",
            " [1 1]\n",
            " ...\n",
            " [0 0]\n",
            " [1 1]\n",
            " [0 0]]\n"
          ]
        }
      ]
    },
    {
      "cell_type": "markdown",
      "source": [
        "* Confusion matrix"
      ],
      "metadata": {
        "id": "yVXk4TWmas-M"
      }
    },
    {
      "cell_type": "code",
      "source": [
        "from sklearn.metrics import confusion_matrix, accuracy_score\n",
        "cm = confusion_matrix(y_test, y_pred)\n",
        "print(cm)\n",
        "accuracy_score(y_test, y_pred)"
      ],
      "metadata": {
        "colab": {
          "base_uri": "https://localhost:8080/"
        },
        "id": "kSUQlImXHA7h",
        "outputId": "6e5b094d-499c-436b-b312-c9c68ae935a1"
      },
      "execution_count": 20,
      "outputs": [
        {
          "output_type": "stream",
          "name": "stdout",
          "text": [
            "[[2566  291]\n",
            " [ 338 5820]]\n"
          ]
        },
        {
          "output_type": "execute_result",
          "data": {
            "text/plain": [
              "0.9302273987798114"
            ]
          },
          "metadata": {},
          "execution_count": 20
        }
      ]
    },
    {
      "cell_type": "markdown",
      "source": [
        "F1 score"
      ],
      "metadata": {
        "id": "xNH6VyiySeM7"
      }
    },
    {
      "cell_type": "code",
      "source": [
        "from sklearn import metrics\n",
        "metrics.f1_score(y_test, y_pred, average='macro')"
      ],
      "metadata": {
        "colab": {
          "base_uri": "https://localhost:8080/"
        },
        "id": "jxleSTpqSgWA",
        "outputId": "c1720b7d-a397-48ee-c56c-6d44583f7812"
      },
      "execution_count": 21,
      "outputs": [
        {
          "output_type": "execute_result",
          "data": {
            "text/plain": [
              "0.9197750722184717"
            ]
          },
          "metadata": {},
          "execution_count": 21
        }
      ]
    },
    {
      "cell_type": "markdown",
      "source": [
        "* MultiNomial Naive Bayes"
      ],
      "metadata": {
        "id": "nXXpP9IalihS"
      }
    },
    {
      "cell_type": "code",
      "source": [
        "from sklearn.model_selection import train_test_split\n",
        "from sklearn.feature_extraction.text import CountVectorizer\n",
        "from sklearn.feature_extraction.text import TfidfTransformer\n",
        "from sklearn.naive_bayes import MultinomialNB\n",
        "tfidf_transformer = TfidfTransformer()\n",
        "X_train_tfidf = tfidf_transformer.fit_transform(X_train)\n",
        "clf = MultinomialNB().fit(X_train_tfidf, y_train)"
      ],
      "metadata": {
        "id": "GBglKQntliHN"
      },
      "execution_count": 22,
      "outputs": []
    },
    {
      "cell_type": "markdown",
      "source": [
        "* Predicting with test set"
      ],
      "metadata": {
        "id": "2wbgNs3zazeo"
      }
    },
    {
      "cell_type": "code",
      "source": [
        "y_pred = clf.predict(X_test)\n",
        "print(np.concatenate((y_pred.reshape(len(y_pred),1), y_test.reshape(len(y_test),1)),1))"
      ],
      "metadata": {
        "colab": {
          "base_uri": "https://localhost:8080/"
        },
        "id": "jm_HxQhgln-W",
        "outputId": "428e87bf-d4f1-441b-dc24-47aa0cf5dabc"
      },
      "execution_count": 23,
      "outputs": [
        {
          "output_type": "stream",
          "name": "stdout",
          "text": [
            "[[0 0]\n",
            " [1 1]\n",
            " [1 1]\n",
            " ...\n",
            " [0 0]\n",
            " [1 1]\n",
            " [0 0]]\n"
          ]
        }
      ]
    },
    {
      "cell_type": "markdown",
      "source": [
        "* Confusion matrix"
      ],
      "metadata": {
        "id": "6cwj7JGTa3a2"
      }
    },
    {
      "cell_type": "code",
      "source": [
        "from sklearn.metrics import confusion_matrix, accuracy_score\n",
        "cm = confusion_matrix(y_test, y_pred)\n",
        "print(cm)\n",
        "accuracy_score(y_test, y_pred)"
      ],
      "metadata": {
        "colab": {
          "base_uri": "https://localhost:8080/"
        },
        "id": "QJLnMeHhlqlK",
        "outputId": "e060c728-ab27-4677-c447-39e1eabe34fd"
      },
      "execution_count": 24,
      "outputs": [
        {
          "output_type": "stream",
          "name": "stdout",
          "text": [
            "[[2615  242]\n",
            " [ 399 5759]]\n"
          ]
        },
        {
          "output_type": "execute_result",
          "data": {
            "text/plain": [
              "0.9288962839711592"
            ]
          },
          "metadata": {},
          "execution_count": 24
        }
      ]
    },
    {
      "cell_type": "markdown",
      "source": [
        "F1 score"
      ],
      "metadata": {
        "id": "EXMXQLNZQjo9"
      }
    },
    {
      "cell_type": "code",
      "source": [
        "from sklearn import metrics\n",
        "metrics.f1_score(y_test, y_pred, average='macro')"
      ],
      "metadata": {
        "colab": {
          "base_uri": "https://localhost:8080/"
        },
        "id": "wZyAtVmBQi88",
        "outputId": "38402dd4-dc2b-4f32-ec31-23b68cec335f"
      },
      "execution_count": 25,
      "outputs": [
        {
          "output_type": "execute_result",
          "data": {
            "text/plain": [
              "0.9190505650244968"
            ]
          },
          "metadata": {},
          "execution_count": 25
        }
      ]
    },
    {
      "cell_type": "markdown",
      "source": [
        "* Working with review score\n",
        "* Here the review score is converted to categorical and stored in review group column because there are multi class to predict"
      ],
      "metadata": {
        "id": "hsXKeZZud8tX"
      }
    },
    {
      "cell_type": "code",
      "source": [
        "category = pd.cut(dataset.review_score,bins=[1,2,4,5],labels=['Negative','Average','Positive'])\n",
        "dataset.insert(3,\"review_group\", category)\n",
        "print(dataset)"
      ],
      "metadata": {
        "colab": {
          "base_uri": "https://localhost:8080/"
        },
        "id": "RVg-Xn83ZZFw",
        "outputId": "ccab8653-4bd4-445e-bc62-ffd895843a4a"
      },
      "execution_count": 26,
      "outputs": [
        {
          "output_type": "stream",
          "name": "stdout",
          "text": [
            "                   review_id  \\\n",
            "0      product_review_000000   \n",
            "1      product_review_000001   \n",
            "2      product_review_000002   \n",
            "3      product_review_000003   \n",
            "4      product_review_000004   \n",
            "...                      ...   \n",
            "32913  product_review_032913   \n",
            "32914  product_review_032914   \n",
            "32915  product_review_032915   \n",
            "32916  product_review_032916   \n",
            "32917  product_review_032917   \n",
            "\n",
            "                                                    text verified  \\\n",
            "0      Great story line and game play, somewhat simil...    False   \n",
            "1      Love these strings, beefy is the way to go if ...     True   \n",
            "2      Good game if you liked the first one you would...     True   \n",
            "3      I love this mixer  and I'm a mixer snob (i.e. ...    False   \n",
            "4      I loved Halo through Halo 3, and I thoroughly ...     True   \n",
            "...                                                  ...      ...   \n",
            "32913  GUNS! GUNS! GLORIOUS GUNS!!! ...for about 30 m...     True   \n",
            "32914                           My son will love this..      True   \n",
            "32915  Working like my last one.. I slammed my last o...     True   \n",
            "32916  As another person posted about it, it does fee...     True   \n",
            "32917  It gets the job done. Nothing fancy.\\n\\n The w...    False   \n",
            "\n",
            "      review_group  review_score  product_category  \n",
            "0         Positive           5.0                 1  \n",
            "1         Positive           5.0                 0  \n",
            "2          Average           4.0                 1  \n",
            "3         Positive           5.0                 0  \n",
            "4         Positive           5.0                 1  \n",
            "...            ...           ...               ...  \n",
            "32913     Positive           5.0                 1  \n",
            "32914     Positive           5.0                 1  \n",
            "32915     Positive           5.0                 1  \n",
            "32916     Negative           2.0                 1  \n",
            "32917      Average           4.0                 0  \n",
            "\n",
            "[30049 rows x 6 columns]\n"
          ]
        }
      ]
    },
    {
      "cell_type": "markdown",
      "source": [
        "* label encoding for review group"
      ],
      "metadata": {
        "id": "W2tsVw5cc3VS"
      }
    },
    {
      "cell_type": "code",
      "source": [
        "from sklearn.preprocessing import LabelEncoder\n",
        "# create an object of the LabelEncoder class\n",
        "lblEncoder_X = LabelEncoder()   \n",
        "dataset['review_group'] = lblEncoder_X.fit_transform(dataset['review_group']) \n",
        "print(dataset)"
      ],
      "metadata": {
        "id": "4qvaw33Dc6tm",
        "colab": {
          "base_uri": "https://localhost:8080/"
        },
        "outputId": "fc3facf9-82f8-41f4-80ca-22c90d2f5808"
      },
      "execution_count": 27,
      "outputs": [
        {
          "output_type": "stream",
          "name": "stdout",
          "text": [
            "                   review_id  \\\n",
            "0      product_review_000000   \n",
            "1      product_review_000001   \n",
            "2      product_review_000002   \n",
            "3      product_review_000003   \n",
            "4      product_review_000004   \n",
            "...                      ...   \n",
            "32913  product_review_032913   \n",
            "32914  product_review_032914   \n",
            "32915  product_review_032915   \n",
            "32916  product_review_032916   \n",
            "32917  product_review_032917   \n",
            "\n",
            "                                                    text verified  \\\n",
            "0      Great story line and game play, somewhat simil...    False   \n",
            "1      Love these strings, beefy is the way to go if ...     True   \n",
            "2      Good game if you liked the first one you would...     True   \n",
            "3      I love this mixer  and I'm a mixer snob (i.e. ...    False   \n",
            "4      I loved Halo through Halo 3, and I thoroughly ...     True   \n",
            "...                                                  ...      ...   \n",
            "32913  GUNS! GUNS! GLORIOUS GUNS!!! ...for about 30 m...     True   \n",
            "32914                           My son will love this..      True   \n",
            "32915  Working like my last one.. I slammed my last o...     True   \n",
            "32916  As another person posted about it, it does fee...     True   \n",
            "32917  It gets the job done. Nothing fancy.\\n\\n The w...    False   \n",
            "\n",
            "       review_group  review_score  product_category  \n",
            "0                 2           5.0                 1  \n",
            "1                 2           5.0                 0  \n",
            "2                 0           4.0                 1  \n",
            "3                 2           5.0                 0  \n",
            "4                 2           5.0                 1  \n",
            "...             ...           ...               ...  \n",
            "32913             2           5.0                 1  \n",
            "32914             2           5.0                 1  \n",
            "32915             2           5.0                 1  \n",
            "32916             1           2.0                 1  \n",
            "32917             0           4.0                 0  \n",
            "\n",
            "[30049 rows x 6 columns]\n"
          ]
        }
      ]
    },
    {
      "cell_type": "markdown",
      "source": [
        "* Bag of word models"
      ],
      "metadata": {
        "id": "y5QPM7cDeNSz"
      }
    },
    {
      "cell_type": "code",
      "source": [
        "from sklearn.feature_extraction.text import CountVectorizer\n",
        "cv = CountVectorizer(ngram_range=(1,1), lowercase=False, tokenizer=None,\n",
        "                       min_df=10, max_df=0.5)\n",
        "X1 = cv.fit_transform(corpus).toarray() \n",
        "Y1 = dataset.iloc[:, -3].values\n",
        "print(X[0])"
      ],
      "metadata": {
        "id": "OPfoFLmveRZs",
        "colab": {
          "base_uri": "https://localhost:8080/"
        },
        "outputId": "af4255a2-ffa6-447f-879b-0f41bbbead98"
      },
      "execution_count": 28,
      "outputs": [
        {
          "output_type": "stream",
          "name": "stdout",
          "text": [
            "[0 0 0 ... 0 0 0]\n"
          ]
        }
      ]
    },
    {
      "cell_type": "markdown",
      "source": [
        "* Splitting the dataset"
      ],
      "metadata": {
        "id": "BeD7ScO9eiLU"
      }
    },
    {
      "cell_type": "code",
      "source": [
        "from sklearn.model_selection import train_test_split\n",
        "X_train, X_test, y_train, y_test = train_test_split(X1, Y1, test_size = 0.30, random_state = 0)\n",
        "print(X_train)\n",
        "print(y_test)"
      ],
      "metadata": {
        "id": "DusjujM5eker",
        "colab": {
          "base_uri": "https://localhost:8080/"
        },
        "outputId": "5d29c62f-7222-43ee-f894-3f65808ab605"
      },
      "execution_count": 29,
      "outputs": [
        {
          "output_type": "stream",
          "name": "stdout",
          "text": [
            "[[0 0 0 ... 0 0 0]\n",
            " [0 0 0 ... 0 0 0]\n",
            " [0 0 0 ... 0 0 0]\n",
            " ...\n",
            " [0 0 0 ... 0 0 0]\n",
            " [0 0 0 ... 0 0 0]\n",
            " [0 0 0 ... 0 0 0]]\n",
            "[0 0 2 ... 2 2 2]\n"
          ]
        }
      ]
    },
    {
      "cell_type": "markdown",
      "source": [
        "* Logistic Regression"
      ],
      "metadata": {
        "id": "2dfi8l7_IcKq"
      }
    },
    {
      "cell_type": "code",
      "source": [
        "from sklearn.linear_model import LogisticRegression\n",
        "from sklearn.feature_extraction.text import TfidfTransformer\n",
        "tfidf_transformer = TfidfTransformer()\n",
        "X_train_tfidf = tfidf_transformer.fit_transform(X_train)\n",
        "lgr = LogisticRegression().fit(X_train_tfidf, y_train)\n"
      ],
      "metadata": {
        "colab": {
          "base_uri": "https://localhost:8080/"
        },
        "id": "lmxNINfgIP6q",
        "outputId": "b4f14902-dcba-4822-f10c-64f128030382"
      },
      "execution_count": 30,
      "outputs": [
        {
          "output_type": "stream",
          "name": "stderr",
          "text": [
            "/usr/local/lib/python3.7/dist-packages/sklearn/linear_model/_logistic.py:818: ConvergenceWarning: lbfgs failed to converge (status=1):\n",
            "STOP: TOTAL NO. of ITERATIONS REACHED LIMIT.\n",
            "\n",
            "Increase the number of iterations (max_iter) or scale the data as shown in:\n",
            "    https://scikit-learn.org/stable/modules/preprocessing.html\n",
            "Please also refer to the documentation for alternative solver options:\n",
            "    https://scikit-learn.org/stable/modules/linear_model.html#logistic-regression\n",
            "  extra_warning_msg=_LOGISTIC_SOLVER_CONVERGENCE_MSG,\n"
          ]
        }
      ]
    },
    {
      "cell_type": "markdown",
      "source": [
        "* Predicting with test data"
      ],
      "metadata": {
        "id": "3DyxTZJTbYjU"
      }
    },
    {
      "cell_type": "code",
      "source": [
        "y_pred = lgr.predict(X_test)\n",
        "print(np.concatenate((y_pred.reshape(len(y_pred),1), y_test.reshape(len(y_test),1)),1))"
      ],
      "metadata": {
        "colab": {
          "base_uri": "https://localhost:8080/"
        },
        "id": "ScZ_-_elIeOY",
        "outputId": "b30ad3f3-016f-4ed2-c0b3-9b983f9c21ac"
      },
      "execution_count": 31,
      "outputs": [
        {
          "output_type": "stream",
          "name": "stdout",
          "text": [
            "[[2 0]\n",
            " [1 0]\n",
            " [2 2]\n",
            " ...\n",
            " [2 2]\n",
            " [0 2]\n",
            " [2 2]]\n"
          ]
        }
      ]
    },
    {
      "cell_type": "markdown",
      "source": [
        "* Confusion matrix"
      ],
      "metadata": {
        "id": "eCciwfYZbdUn"
      }
    },
    {
      "cell_type": "code",
      "source": [
        "from sklearn.metrics import confusion_matrix, accuracy_score\n",
        "cm = confusion_matrix(y_test, y_pred)\n",
        "print(cm)\n",
        "accuracy_score(y_test, y_pred)"
      ],
      "metadata": {
        "colab": {
          "base_uri": "https://localhost:8080/"
        },
        "id": "S0NPw7vPIk6P",
        "outputId": "151f1deb-e2ed-4090-8c7f-db7847ecfa79"
      },
      "execution_count": 32,
      "outputs": [
        {
          "output_type": "stream",
          "name": "stdout",
          "text": [
            "[[1548  292  767   60]\n",
            " [ 196  147   57   34]\n",
            " [1166  198 3931   70]\n",
            " [  95  170   63  221]]\n"
          ]
        },
        {
          "output_type": "execute_result",
          "data": {
            "text/plain": [
              "0.648585690515807"
            ]
          },
          "metadata": {},
          "execution_count": 32
        }
      ]
    },
    {
      "cell_type": "markdown",
      "source": [
        "F1 Score"
      ],
      "metadata": {
        "id": "e05HxdWSUIil"
      }
    },
    {
      "cell_type": "code",
      "source": [
        "from sklearn import metrics\n",
        "metrics.f1_score(y_test, y_pred, average='macro')"
      ],
      "metadata": {
        "colab": {
          "base_uri": "https://localhost:8080/"
        },
        "id": "N8MuBoSvUJ8E",
        "outputId": "3edd68b9-72e3-4e26-f4fd-35c899f88bf2"
      },
      "execution_count": 33,
      "outputs": [
        {
          "output_type": "execute_result",
          "data": {
            "text/plain": [
              "0.5070123587372408"
            ]
          },
          "metadata": {},
          "execution_count": 33
        }
      ]
    },
    {
      "cell_type": "markdown",
      "source": [
        "* Multinomial naive bayes"
      ],
      "metadata": {
        "id": "q6H_U7WetCmG"
      }
    },
    {
      "cell_type": "code",
      "source": [
        "from sklearn.model_selection import train_test_split\n",
        "from sklearn.feature_extraction.text import CountVectorizer\n",
        "from sklearn.feature_extraction.text import TfidfTransformer\n",
        "from sklearn.naive_bayes import MultinomialNB\n",
        "tfidf_transformer = TfidfTransformer()\n",
        "X_train_tfidf = tfidf_transformer.fit_transform(X_train)\n",
        "clf = MultinomialNB().fit(X_train_tfidf, y_train)"
      ],
      "metadata": {
        "id": "6pXNsIIbs5gD"
      },
      "execution_count": 34,
      "outputs": []
    },
    {
      "cell_type": "markdown",
      "source": [
        "* Predicting with test data"
      ],
      "metadata": {
        "id": "fnxW4fwmbgxa"
      }
    },
    {
      "cell_type": "code",
      "source": [
        "y_pred = clf.predict(X_test)\n",
        "print(np.concatenate((y_pred.reshape(len(y_pred),1), y_test.reshape(len(y_test),1)),1))"
      ],
      "metadata": {
        "colab": {
          "base_uri": "https://localhost:8080/"
        },
        "id": "aThnQSLhtF-w",
        "outputId": "33c22195-1de6-4c79-d063-74f32f77f426"
      },
      "execution_count": 35,
      "outputs": [
        {
          "output_type": "stream",
          "name": "stdout",
          "text": [
            "[[2 0]\n",
            " [0 0]\n",
            " [2 2]\n",
            " ...\n",
            " [2 2]\n",
            " [0 2]\n",
            " [2 2]]\n"
          ]
        }
      ]
    },
    {
      "cell_type": "markdown",
      "source": [
        "* Confusion matrix"
      ],
      "metadata": {
        "id": "sqo8cNe7bk_W"
      }
    },
    {
      "cell_type": "code",
      "source": [
        "from sklearn.metrics import confusion_matrix, accuracy_score\n",
        "cm = confusion_matrix(y_test, y_pred)\n",
        "print(cm)\n",
        "accuracy_score(y_test, y_pred)"
      ],
      "metadata": {
        "colab": {
          "base_uri": "https://localhost:8080/"
        },
        "id": "GE5AcDOvtGq1",
        "outputId": "3877aa87-8ed4-44b4-f5e2-bad2036cdfd6"
      },
      "execution_count": 36,
      "outputs": [
        {
          "output_type": "stream",
          "name": "stdout",
          "text": [
            "[[1214    1 1450    2]\n",
            " [ 264    0  167    3]\n",
            " [ 647    1 4710    7]\n",
            " [ 259    0  240   50]]\n"
          ]
        },
        {
          "output_type": "execute_result",
          "data": {
            "text/plain": [
              "0.66267332224071"
            ]
          },
          "metadata": {},
          "execution_count": 36
        }
      ]
    },
    {
      "cell_type": "markdown",
      "source": [
        "F1 score"
      ],
      "metadata": {
        "id": "7x2xZdAkUMbc"
      }
    },
    {
      "cell_type": "code",
      "source": [
        "from sklearn import metrics\n",
        "metrics.f1_score(y_test, y_pred, average='macro')"
      ],
      "metadata": {
        "colab": {
          "base_uri": "https://localhost:8080/"
        },
        "id": "goft7YgLUNyb",
        "outputId": "3156a95e-7ced-4dcb-d0e9-7377ee3ca108"
      },
      "execution_count": 37,
      "outputs": [
        {
          "output_type": "execute_result",
          "data": {
            "text/plain": [
              "0.35845917425701723"
            ]
          },
          "metadata": {},
          "execution_count": 37
        }
      ]
    }
  ]
}